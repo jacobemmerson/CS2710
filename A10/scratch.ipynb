{
 "cells": [
  {
   "cell_type": "code",
   "execution_count": 1,
   "metadata": {},
   "outputs": [],
   "source": [
    "import pandas as pd"
   ]
  },
  {
   "cell_type": "code",
   "execution_count": 10,
   "metadata": {},
   "outputs": [
    {
     "data": {
      "text/html": [
       "<div>\n",
       "<style scoped>\n",
       "    .dataframe tbody tr th:only-of-type {\n",
       "        vertical-align: middle;\n",
       "    }\n",
       "\n",
       "    .dataframe tbody tr th {\n",
       "        vertical-align: top;\n",
       "    }\n",
       "\n",
       "    .dataframe thead th {\n",
       "        text-align: right;\n",
       "    }\n",
       "</style>\n",
       "<table border=\"1\" class=\"dataframe\">\n",
       "  <thead>\n",
       "    <tr style=\"text-align: right;\">\n",
       "      <th></th>\n",
       "      <th>Battery</th>\n",
       "      <th>Radio</th>\n",
       "      <th>Lights</th>\n",
       "      <th>Ignition</th>\n",
       "      <th>Gas</th>\n",
       "      <th>EngineStarts</th>\n",
       "    </tr>\n",
       "  </thead>\n",
       "  <tbody>\n",
       "    <tr>\n",
       "      <th>0</th>\n",
       "      <td>1</td>\n",
       "      <td>1</td>\n",
       "      <td>1</td>\n",
       "      <td>1</td>\n",
       "      <td>1</td>\n",
       "      <td>1</td>\n",
       "    </tr>\n",
       "    <tr>\n",
       "      <th>1</th>\n",
       "      <td>1</td>\n",
       "      <td>1</td>\n",
       "      <td>1</td>\n",
       "      <td>0</td>\n",
       "      <td>1</td>\n",
       "      <td>0</td>\n",
       "    </tr>\n",
       "    <tr>\n",
       "      <th>2</th>\n",
       "      <td>1</td>\n",
       "      <td>0</td>\n",
       "      <td>1</td>\n",
       "      <td>1</td>\n",
       "      <td>1</td>\n",
       "      <td>1</td>\n",
       "    </tr>\n",
       "    <tr>\n",
       "      <th>3</th>\n",
       "      <td>1</td>\n",
       "      <td>0</td>\n",
       "      <td>1</td>\n",
       "      <td>1</td>\n",
       "      <td>1</td>\n",
       "      <td>0</td>\n",
       "    </tr>\n",
       "    <tr>\n",
       "      <th>4</th>\n",
       "      <td>0</td>\n",
       "      <td>1</td>\n",
       "      <td>0</td>\n",
       "      <td>0</td>\n",
       "      <td>1</td>\n",
       "      <td>0</td>\n",
       "    </tr>\n",
       "  </tbody>\n",
       "</table>\n",
       "</div>"
      ],
      "text/plain": [
       "   Battery  Radio  Lights  Ignition  Gas  EngineStarts\n",
       "0        1      1       1         1    1             1\n",
       "1        1      1       1         0    1             0\n",
       "2        1      0       1         1    1             1\n",
       "3        1      0       1         1    1             0\n",
       "4        0      1       0         0    1             0"
      ]
     },
     "execution_count": 10,
     "metadata": {},
     "output_type": "execute_result"
    }
   ],
   "source": [
    "samples = pd.read_csv('./bbn.csv', sep = ',', header = 0)\n",
    "samples.head()"
   ]
  },
  {
   "cell_type": "code",
   "execution_count": 19,
   "metadata": {},
   "outputs": [
    {
     "data": {
      "text/plain": [
       "20"
      ]
     },
     "execution_count": 19,
     "metadata": {},
     "output_type": "execute_result"
    }
   ],
   "source": [
    "samples.shape[0]"
   ]
  },
  {
   "cell_type": "code",
   "execution_count": 27,
   "metadata": {},
   "outputs": [
    {
     "data": {
      "text/plain": [
       "3"
      ]
     },
     "execution_count": 27,
     "metadata": {},
     "output_type": "execute_result"
    }
   ],
   "source": [
    "samples[samples.Battery == 0].shape[0]"
   ]
  },
  {
   "cell_type": "code",
   "execution_count": 26,
   "metadata": {},
   "outputs": [
    {
     "data": {
      "text/plain": [
       "1"
      ]
     },
     "execution_count": 26,
     "metadata": {},
     "output_type": "execute_result"
    }
   ],
   "source": [
    "samples[((samples.Lights == 1) & (samples.Battery == 0))].shape[0]"
   ]
  },
  {
   "cell_type": "code",
   "execution_count": 25,
   "metadata": {},
   "outputs": [
    {
     "data": {
      "text/plain": [
       "0.3333333333333333"
      ]
     },
     "execution_count": 25,
     "metadata": {},
     "output_type": "execute_result"
    }
   ],
   "source": [
    "samples[((samples.Lights == 1) & (samples.Battery == 0))].shape[0]/samples[samples.Battery == 0].shape[0]"
   ]
  },
  {
   "cell_type": "code",
   "execution_count": 35,
   "metadata": {},
   "outputs": [
    {
     "data": {
      "text/plain": [
       "4"
      ]
     },
     "execution_count": 35,
     "metadata": {},
     "output_type": "execute_result"
    }
   ],
   "source": [
    "samples[((samples.Ignition == 1) & (samples.Gas == 0))].shape[0]"
   ]
  },
  {
   "cell_type": "code",
   "execution_count": 36,
   "metadata": {},
   "outputs": [
    {
     "data": {
      "text/plain": [
       "3"
      ]
     },
     "execution_count": 36,
     "metadata": {},
     "output_type": "execute_result"
    }
   ],
   "source": [
    "samples[((samples.EngineStarts == 1) & (samples.Ignition == 1) & (samples.Gas == 0))].shape[0]"
   ]
  },
  {
   "cell_type": "markdown",
   "metadata": {},
   "source": [
    "---\n",
    "Tuning Hyperparameters"
   ]
  },
  {
   "cell_type": "code",
   "execution_count": 1,
   "metadata": {},
   "outputs": [
    {
     "name": "stdout",
     "output_type": "stream",
     "text": [
      "Train Input Dimensions: (406, 13)\n",
      "Test Input Dimensions: (100, 13)\n"
     ]
    }
   ],
   "source": [
    "#!/usr/bin/env python3\n",
    "# -*- coding: utf-8 -*-\n",
    "\"\"\"\n",
    "Created on Thu Feb  3 18:17:41 2022\n",
    "\n",
    "@author: milos\n",
    "\"\"\"\n",
    "\n",
    "# Problem 2. Part 1. Linear regression\n",
    "\n",
    "import numpy as np\n",
    "import pandas as pd\n",
    "import matplotlib.pyplot as plt\n",
    "from sklearn.preprocessing import StandardScaler \n",
    "from sklearn import datasets, linear_model, preprocessing\n",
    "from sklearn.metrics import mean_squared_error\n",
    "\n",
    "# load the boston housing dataset\n",
    "housing = datasets.fetch_openml(name='boston',version=1,parser='auto')\n",
    "housing.details \n",
    "\n",
    "X=housing.data\n",
    "Y=housing.target\n",
    "\n",
    "# train/test split\n",
    "X_train=X[:-100]\n",
    "X_test=X[-100:]\n",
    "Y_train=Y[:-100]\n",
    "Y_test=Y[-100:]\n",
    "\n",
    "print(f\"Train Input Dimensions: {X_train.shape}\")\n",
    "print(f\"Test Input Dimensions: {X_test.shape}\")\n",
    "\n",
    "# scale X components\n",
    "scaler = StandardScaler()\n",
    "scaler.fit(X_train)  \n",
    "X_train = scaler.transform(X_train)  \n",
    "X_test = scaler.transform(X_test)"
   ]
  },
  {
   "cell_type": "code",
   "execution_count": 2,
   "metadata": {},
   "outputs": [],
   "source": [
    "def stoch_grad_des(n_interations, learning_rate, X_train, Y_train):\n",
    "    # number of iterations for fitting w/ stochastic gradient descent\n",
    "    niter = n_interations\n",
    "    tau = learning_rate # learning rate\n",
    "    n_samples = X_train.shape[0] # number of samples in training set\n",
    "    n_feats = X_train.shape[1] # number of features\n",
    "\n",
    "    # +1 for intercept\n",
    "    weights = np.ones(shape = n_feats + 1, dtype = np.float64)\n",
    "    for t in range(1,niter+1):\n",
    "        # annealed rate\n",
    "        rate = tau/t\n",
    "        train_index = (t-1) % n_samples\n",
    "        b = weights[0] # intercept\n",
    "        w = weights[1:] # slope coef\n",
    "\n",
    "        # sample\n",
    "        x = X_train[train_index,:]\n",
    "        y = Y_train[train_index]\n",
    "\n",
    "        # single sample, use dot product\n",
    "        gradient = y - (w.dot(x) + b)\n",
    "        weights[0] = b + rate*gradient\n",
    "        weights[1:] = w + rate*gradient*x\n",
    "\n",
    "    # Create linear regression object\n",
    "    regr = linear_model.LinearRegression()\n",
    "    regr.intercept_ = weights[0]\n",
    "    regr.coef_ = weights[1:]\n",
    "\n",
    "    return regr"
   ]
  },
  {
   "cell_type": "code",
   "execution_count": 7,
   "metadata": {},
   "outputs": [],
   "source": [
    "best_params = {}\n",
    "for params in np.linspace(0.05, 0.5, num = 100):\n",
    "    regr = stoch_grad_des(10000, params, X_train, Y_train)\n",
    "    Y_train_pred = regr.predict(X_train)\n",
    "    error = mean_squared_error(Y_train, Y_train_pred)\n",
    "    best_params[params] = error"
   ]
  },
  {
   "cell_type": "code",
   "execution_count": 8,
   "metadata": {},
   "outputs": [
    {
     "data": {
      "text/plain": [
       "{(1000, 0.1): 221.39790487606044,\n",
       " (2000, 0.1): 191.42617260587045,\n",
       " (5000, 0.1): 161.13420716876996,\n",
       " (10000, 0.1): 142.90367198098352,\n",
       " (1000, 0.2): 137.56527889564205,\n",
       " (2000, 0.2): 107.66550756485482,\n",
       " (5000, 0.2): 83.12317310037963,\n",
       " (10000, 0.2): 69.95432673865545,\n",
       " (1000, 0.3): 104.5343438552953,\n",
       " (2000, 0.3): 76.81907147413092,\n",
       " (5000, 0.3): 57.72110958256593,\n",
       " (10000, 0.3): 48.806154928746466,\n",
       " (1000, 0.4): 87.3838368725379,\n",
       " (2000, 0.4): 63.12952555813335,\n",
       " (5000, 0.4): 48.798914726435434,\n",
       " (10000, 0.4): 42.797458270157904,\n",
       " (1000, 0.5): 78.92902449663985,\n",
       " (2000, 0.5): 58.244537527998986,\n",
       " (5000, 0.5): 47.08226535270501,\n",
       " (10000, 0.5): 42.514132118930846}"
      ]
     },
     "execution_count": 8,
     "metadata": {},
     "output_type": "execute_result"
    }
   ],
   "source": [
    "best_params"
   ]
  },
  {
   "cell_type": "code",
   "execution_count": null,
   "metadata": {},
   "outputs": [],
   "source": [
    "Y_train_pred = regr.predict(X_train)\n",
    "print(f\"MSE on Training Set: {round(mean_squared_error(Y_train, Y_train_pred),2)}\")\n",
    "\n",
    "\n",
    "# Make predictions on the testing set\n",
    "Y_test_pred = regr.predict(X_test)\n",
    "# The mean squared error on the test set\n",
    "print('Mean squared testing error: %.2f'\n",
    "      % mean_squared_error(Y_test, Y_test_pred))"
   ]
  }
 ],
 "metadata": {
  "kernelspec": {
   "display_name": "base",
   "language": "python",
   "name": "python3"
  },
  "language_info": {
   "codemirror_mode": {
    "name": "ipython",
    "version": 3
   },
   "file_extension": ".py",
   "mimetype": "text/x-python",
   "name": "python",
   "nbconvert_exporter": "python",
   "pygments_lexer": "ipython3",
   "version": "3.11.4"
  }
 },
 "nbformat": 4,
 "nbformat_minor": 2
}
