{
 "cells": [
  {
   "cell_type": "markdown",
   "metadata": {},
   "source": [
    "You are given the python code BBN Alarm.py that\n",
    "\n",
    "(1) defines the alarm network from\n",
    "the lectures extended with the RadioReport variable\n",
    "\n",
    "(2) visualizes the structure of the net-\n",
    "work, and the\n",
    "\n",
    "(3) queries the network to calculate the conditional probability distribution\n",
    "P(Earthquake|JohnCalls = T, MaryCalls = T). False values are coded with zeroes and\n",
    "True values with Ones. The inference is calculated using the variable elimination method."
   ]
  },
  {
   "cell_type": "code",
   "execution_count": 2,
   "metadata": {},
   "outputs": [
    {
     "name": "stderr",
     "output_type": "stream",
     "text": [
      "INFO:numexpr.utils:NumExpr defaulting to 8 threads.\n"
     ]
    }
   ],
   "source": [
    "from pgmpy.factors.discrete import TabularCPD\n",
    "from pgmpy.models import BayesianNetwork\n",
    "from pgmpy.inference import VariableElimination\n",
    "import pickle\n",
    "import networkx as nx\n",
    "import matplotlib.pyplot as plt"
   ]
  },
  {
   "cell_type": "code",
   "execution_count": 3,
   "metadata": {},
   "outputs": [],
   "source": [
    "# Step 1: Define the structure of the Bayesian Network\n",
    "model = BayesianNetwork([(\"Burglary\",'Alarm'),\n",
    "                         ('Earthquake', 'Alarm'),\n",
    "                         ('Earthquake', 'RadioReport'),\n",
    "                         ('Alarm', 'JohnCalls'),\n",
    "                         ('Alarm', 'MaryCalls')])\n",
    "\n",
    "# Step 2: Define the parameters (CPDs) of the Bayesian Network\n",
    "cpd_Burglary = TabularCPD(variable='Burglary', variable_card=2, values=[[0.999], [0.001]])\n",
    "cpd_Earthquake = TabularCPD(variable='Earthquake', variable_card=2, values=[[0.998], [0.002]])\n",
    "cpd_Alarm = TabularCPD(variable='Alarm', variable_card=2, values=[[0.999, 0.71, 0.06, 0.05],[0.001, 0.29, 0.94, 0.95]],\n",
    "                       evidence=['Burglary', 'Earthquake'], evidence_card=[2, 2])\n",
    "cpd_RadioReport = TabularCPD(variable='RadioReport', variable_card=2, values=[[0.95, 0.01], [0.05, 0.99]],\n",
    "                             evidence=['Earthquake'], evidence_card=[2])\n",
    "cpd_JohnCalls = TabularCPD(variable='JohnCalls', variable_card=2, values=[[0.95, 0.1], [0.05, 0.9]],\n",
    "                             evidence=['Alarm'], evidence_card=[2])\n",
    "cpd_MaryCalls = TabularCPD(variable='MaryCalls', variable_card=2, values=[[0.99, 0.3], [0.01, 0.7]],\n",
    "                             evidence=['Alarm'], evidence_card=[2])"
   ]
  },
  {
   "cell_type": "code",
   "execution_count": 4,
   "metadata": {},
   "outputs": [],
   "source": [
    "# Step 3: Add the parameters to the model\n",
    "model.add_cpds(cpd_Burglary, cpd_Earthquake, cpd_Alarm, cpd_RadioReport, cpd_JohnCalls, cpd_MaryCalls)\n",
    "\n",
    "# Step 4: Validate the model\n",
    "assert model.check_model()"
   ]
  },
  {
   "cell_type": "code",
   "execution_count": 5,
   "metadata": {},
   "outputs": [],
   "source": [
    "# Step 1: Store model\n",
    "with open('bayesian_network_model.pkl', 'wb') as f:\n",
    "    pickle.dump(model, f)"
   ]
  },
  {
   "cell_type": "code",
   "execution_count": 6,
   "metadata": {},
   "outputs": [],
   "source": [
    "# Step 2: Load model\n",
    "with open('bayesian_network_model.pkl', 'rb') as f:\n",
    "    loaded_model = pickle.load(f)"
   ]
  },
  {
   "cell_type": "code",
   "execution_count": 7,
   "metadata": {},
   "outputs": [
    {
     "data": {
      "image/png": "[encoded data removed]",
      "text/plain": [
       "<Figure size 640x480 with 1 Axes>"
      ]
     },
     "metadata": {},
     "output_type": "display_data"
    }
   ],
   "source": [
    "# Visualize the Bayesian Network\n",
    "G = nx.DiGraph()\n",
    "G.add_edges_from(model.edges())\n",
    "pos = nx.spring_layout(G)\n",
    "nx.draw_networkx(G, pos, with_labels=True, node_size=800, node_color='skyblue')\n",
    "nx.draw_networkx_labels(G, pos)\n",
    "plt.show()"
   ]
  },
  {
   "cell_type": "markdown",
   "metadata": {},
   "source": [
    "Please modify the code so that it is able to calculate:\n",
    "- P (Earthquake|JohnCalls = T, M aryCalls = T, RadioReport = T )\n",
    "- P (Earthquake|JohnCalls = T, M aryCalls = F, RadioReport = T )\n",
    "- P (Burlary|JohnCalls = T, M aryCalls = T, RadioReport = F )\n",
    "- P (Burlary|JohnCalls = F, M aryCalls = T, RadioReport = T )\n",
    "- P (JohnCalls)\n",
    "- P (JohnCalls|Radioreport = T )\n",
    "- P (JohnCalls|Radioreport = F )\n",
    "- P (JohnCalls|M aryCalls = T )"
   ]
  },
  {
   "cell_type": "code",
   "execution_count": 16,
   "metadata": {},
   "outputs": [
    {
     "name": "stdout",
     "output_type": "stream",
     "text": [
      "+---------------+-------------------+\n",
      "| Earthquake    |   phi(Earthquake) |\n",
      "+===============+===================+\n",
      "| Earthquake(0) |            0.1912 |\n",
      "+---------------+-------------------+\n",
      "| Earthquake(1) |            0.8088 |\n",
      "+---------------+-------------------+\n",
      "\n",
      "+---------------+-------------------+\n",
      "| Earthquake    |   phi(Earthquake) |\n",
      "+===============+===================+\n",
      "| Earthquake(0) |            0.9172 |\n",
      "+---------------+-------------------+\n",
      "| Earthquake(1) |            0.0828 |\n",
      "+---------------+-------------------+\n",
      "\n",
      "+-------------+-----------------+\n",
      "| Burglary    |   phi(Burglary) |\n",
      "+=============+=================+\n",
      "| Burglary(0) |          0.6566 |\n",
      "+-------------+-----------------+\n",
      "| Burglary(1) |          0.3434 |\n",
      "+-------------+-----------------+\n",
      "\n",
      "+-------------+-----------------+\n",
      "| Burglary    |   phi(Burglary) |\n",
      "+=============+=================+\n",
      "| Burglary(0) |          0.9935 |\n",
      "+-------------+-----------------+\n",
      "| Burglary(1) |          0.0065 |\n",
      "+-------------+-----------------+\n",
      "\n",
      "+--------------+------------------+\n",
      "| JohnCalls    |   phi(JohnCalls) |\n",
      "+==============+==================+\n",
      "| JohnCalls(0) |           0.9479 |\n",
      "+--------------+------------------+\n",
      "| JohnCalls(1) |           0.0521 |\n",
      "+--------------+------------------+\n",
      "\n",
      "+--------------+------------------+\n",
      "| JohnCalls    |   phi(JohnCalls) |\n",
      "+==============+==================+\n",
      "| JohnCalls(0) |           0.9390 |\n",
      "+--------------+------------------+\n",
      "| JohnCalls(1) |           0.0610 |\n",
      "+--------------+------------------+\n",
      "\n",
      "+--------------+------------------+\n",
      "| JohnCalls    |   phi(JohnCalls) |\n",
      "+==============+==================+\n",
      "| JohnCalls(0) |           0.9483 |\n",
      "+--------------+------------------+\n",
      "| JohnCalls(1) |           0.0517 |\n",
      "+--------------+------------------+\n",
      "\n",
      "+--------------+------------------+\n",
      "| JohnCalls    |   phi(JohnCalls) |\n",
      "+==============+==================+\n",
      "| JohnCalls(0) |           0.8224 |\n",
      "+--------------+------------------+\n",
      "| JohnCalls(1) |           0.1776 |\n",
      "+--------------+------------------+\n",
      "\n"
     ]
    }
   ],
   "source": [
    "# variable elimination algorithm\n",
    "\n",
    "# Step 1: Initialize the Variable Elimination method\n",
    "ve_infer = VariableElimination(model)\n",
    "\n",
    "# Step 2: Query the Bayesian Network to find the conditional probability of 'Earthquake' given that 'JohnCalls is True and MaryCall is True\n",
    "results = [\n",
    "    ve_infer.query(variables=['Earthquake'], evidence={\"JohnCalls\":1, \"MaryCalls\":1, \"RadioReport\":1}),\n",
    "    ve_infer.query(variables=['Earthquake'], evidence={\"JohnCalls\":1, \"MaryCalls\":0, \"RadioReport\":1}),\n",
    "    ve_infer.query(variables=['Burglary'], evidence={'JohnCalls':1, 'MaryCalls':1, 'RadioReport': 0}),\n",
    "    ve_infer.query(variables=['Burglary'], evidence={'JohnCalls':0, 'MaryCalls':1, 'RadioReport': 1}),\n",
    "    ve_infer.query(variables=['JohnCalls']),\n",
    "    ve_infer.query(variables=['JohnCalls'], evidence={'RadioReport':1}),\n",
    "    ve_infer.query(variables=['JohnCalls'], evidence={'RadioReport':0}),\n",
    "    ve_infer.query(variables=['JohnCalls'], evidence={'MaryCalls':1}),\n",
    "]\n",
    "\n",
    "for r in results:\n",
    "    print(r)\n",
    "    print(\"\")"
   ]
  }
 ],
 "metadata": {
  "kernelspec": {
   "display_name": "base",
   "language": "python",
   "name": "python3"
  },
  "language_info": {
   "codemirror_mode": {
    "name": "ipython",
    "version": 3
   },
   "file_extension": ".py",
   "mimetype": "text/x-python",
   "name": "python",
   "nbconvert_exporter": "python",
   "pygments_lexer": "ipython3",
   "version": "3.11.4"
  }
 },
 "nbformat": 4,
 "nbformat_minor": 2
}
