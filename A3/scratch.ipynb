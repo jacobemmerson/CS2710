{
 "cells": [
  {
   "cell_type": "markdown",
   "metadata": {},
   "source": [
    "# CS2710 Assignment 3\n",
    "### Jacob Emmerson DUE: September 11th, 12:50pm"
   ]
  },
  {
   "cell_type": "code",
   "execution_count": 589,
   "metadata": {},
   "outputs": [],
   "source": [
    "import random\n",
    "import math"
   ]
  },
  {
   "cell_type": "code",
   "execution_count": 590,
   "metadata": {},
   "outputs": [],
   "source": [
    "Standard_Cities= [\n",
    "        (7.630520, 3.549164),\n",
    "        (4.839835, 0.822996),\n",
    "        (5.043007, 4.991792),\n",
    "        (2.801917, 2.749705),\n",
    "        (4.379292, 4.651019),\n",
    "        (7.828340, 0.882077),\n",
    "        (2.630909, 6.329537),\n",
    "        (3.123377, 0.307382),\n",
    "        (2.813100, 7.403270),\n",
    "        (5.180621, 5.032747),\n",
    "        (3.132675, 6.776844),\n",
    "        (1.100392, 3.105084),\n",
    "        (6.328253, 6.868632),\n",
    "        (0.672972, 6.346699),\n",
    "        (6.531493, 5.135151),\n",
    "        (3.731491, 1.377488),\n",
    "        (6.641961, 4.448046),\n",
    "        (5.286243, 2.896708),\n",
    "        (3.855679, 2.528306),\n",
    "        (3.100002, 7.835636),\n",
    "        (4.750185, 4.513944),\n",
    "        (4.056279, 6.779125),\n",
    "        (3.670612, 7.973412),\n",
    "        (2.040161, 2.187459),\n",
    "        (7.068120, 6.700557),\n",
    "        (2.524146, 2.151348),\n",
    "        (7.010522, 6.929094),\n",
    "        (5.296346, 1.146134),\n",
    "        (1.457847, 3.339806),\n",
    "        (2.360706, 0.967076),\n",
    "        (6.785015, 5.049559),\n",
    "        (1.088368, 6.888971),\n",
    "        (7.200540, 1.790072),\n",
    "        (3.828022, 2.041351),\n",
    "        (3.890284, 1.638676),\n",
    "        (3.579832, 6.441091),\n",
    "        (3.656363, 2.923428),\n",
    "        (6.521193, 7.968213),\n",
    "        (6.703210, 6.748472),\n",
    "        (6.469462, 2.326698),\n",
    "        (3.701814, 5.000961),\n",
    "        (1.835885, 5.525316),\n",
    "        (7.569855, 5.431781),\n",
    "        (2.030067, 3.869593),\n",
    "        (2.508856, 3.872015),\n",
    "        (6.101347, 2.566932),\n",
    "        (5.761558, 5.247081),\n",
    "        (1.150817, 0.320061),\n",
    "        (3.387590, 5.463640),\n",
    "        (1.617236, 7.775387),\n",
    "        (4.250819, 0.155697),\n",
    "        (0.137775, 1.977584),\n",
    "        (5.673515, 6.554512),\n",
    "        (7.921431, 0.129109),\n",
    "        (2.177936, 4.165043),\n",
    "        (4.741635, 5.255069),\n",
    "        (2.445578, 2.280457),\n",
    "        (1.188459, 3.094138),\n",
    "        (2.037981, 6.401203),\n",
    "        (3.903425, 5.620263),    \n",
    "        ]"
   ]
  },
  {
   "cell_type": "code",
   "execution_count": 591,
   "metadata": {},
   "outputs": [],
   "source": [
    "class TSP_Problem:\n",
    "    \n",
    "    Cities=[]\n",
    "    NumCities=0\n",
    "    \n",
    "    \n",
    "    def __init__(self, Cities):\n",
    "        self.Cities=Cities\n",
    "        self.NumCities=len(self.Cities)\n",
    "    \n",
    "    # generates a random tour\n",
    "    def generate_random_tour(self):\n",
    "        return [0] + random.sample(range(1,self.NumCities),self.NumCities-1) # order in which cities are visited\n",
    "\n",
    "    # generates a new tour using a local permutation of a tour\n",
    "    # this local permutation is also used to implement mutate op if used in the GA            \n",
    "    def permute_tour(self, tour):\n",
    "        end_points=random.sample(range(self.NumCities),2)\n",
    "#        print(end_points)\n",
    "        if (end_points[0]< end_points[1]):\n",
    "            new_tour=tour[0:end_points[0]+1]+ list(reversed(tour[end_points[0]+1: end_points[1]]))+tour[end_points[1]:self.NumCities]\n",
    "        else:\n",
    "            auxtour=tour+tour\n",
    "            #print('Aux tour {}'.format(auxtour))\n",
    "            end_points[1]=end_points[1]+self.NumCities\n",
    "            newa_tour=auxtour[end_points[0]:end_points[0]+1]+ list(reversed(auxtour[end_points[0]+1: end_points[1]])) + auxtour[end_points[1]:end_points[0]+self.NumCities]\n",
    "            #print(\"Intermediate step {}\".format(newa_tour))\n",
    "            j=newa_tour.index(0)\n",
    "            new_tour=newa_tour[j:]+newa_tour[0:j]\n",
    "        return new_tour\n",
    "    \n",
    "    # defines crossover of the two tours for use in the GA\n",
    "    # generates two new tours\n",
    "    def crossover_tours(self,tour1,tour2):\n",
    "        child1 = []\n",
    "        child2=[]\n",
    "        tour1aux=tour1+tour1\n",
    "        tour2aux=tour2+tour2\n",
    "        end_points=random.sample(range(self.NumCities),2)\n",
    "#        print(end_points)\n",
    "        if (end_points[0]> end_points[1]):\n",
    "            end_points[1]=end_points[1]+self.NumCities\n",
    "        #generate the first child\n",
    "        childP1 = []\n",
    "        childP2 = []\n",
    "        for i in range(end_points[0], end_points[1]):\n",
    "            childP1.append(tour1aux[i])\n",
    "        childP2 = [item for item in tour2aux[end_points[0]:end_points[0]+self.NumCities] if item not in childP1]\n",
    "        child1 = childP1 + childP2\n",
    "        j=child1.index(0)\n",
    "        child1=child1[j:]+child1[0:j]\n",
    "        # generate the second child\n",
    "        childP1 = []\n",
    "        childP2 = []\n",
    "        for i in range(end_points[0], end_points[1]):\n",
    "            childP1.append(tour2aux[i])\n",
    "        childP2 = [item for item in tour1aux[end_points[0]:end_points[0]+self.NumCities] if item not in childP1]\n",
    "        child2 = childP1 + childP2\n",
    "        j=child2.index(0)\n",
    "        child2=child2[j:]+child2[0:j]    \n",
    "        return [child1,child2]\n",
    "    # evaluates the quality of a tour\n",
    "    def evaluate_tour(self,tour):\n",
    "        res=0\n",
    "        for i in range(self.NumCities-1):\n",
    "            res+=self.TSP_Distance(self.Cities[tour[i]],self.Cities[tour[i+1]])\n",
    "        return res+self.TSP_Distance(self.Cities[tour[self.NumCities-1]],self.Cities[tour[0]])\n",
    "    # calculates a TSP distance in between two cities (currently uses Manhattan distance)\n",
    "    def TSP_Distance(self,coord1,coord2):\n",
    "        ## implements Manhattan distance\n",
    "        res=0\n",
    "        for i in range(len(coord1)):\n",
    "            res+=abs(coord1[i]-coord2[i])\n",
    "        return res"
   ]
  },
  {
   "cell_type": "markdown",
   "metadata": {},
   "source": [
    "# Part a."
   ]
  },
  {
   "cell_type": "markdown",
   "metadata": {},
   "source": [
    "### pseudo code"
   ]
  },
  {
   "cell_type": "code",
   "execution_count": 592,
   "metadata": {},
   "outputs": [],
   "source": [
    "'''\n",
    "current = random state\n",
    "E = manhattan distance\n",
    "\n",
    "for s in no_of_steps:\n",
    "    candidate_state = random local neighbor of current state\n",
    "    if candidate.E > current.E:\n",
    "        accept the candidate\n",
    "    else:\n",
    "        calculate p(ACCEPT) and use p(ACCEPT) to decide whether to accept\n",
    "\n",
    "return best state\n",
    "'''\n",
    "pass"
   ]
  },
  {
   "cell_type": "markdown",
   "metadata": {},
   "source": [
    "def adjust_temp(init, k, i)\n",
    "\n",
    "$$\n",
    "T_i = \\frac{T_{init}}{k} * (k - i)\n",
    "$$\n",
    "\n",
    "return T_i"
   ]
  },
  {
   "cell_type": "code",
   "execution_count": 593,
   "metadata": {},
   "outputs": [],
   "source": [
    "def adjust_temp_linear(init_temp, no_of_steps, current_step):\n",
    "    if current_step == 0:\n",
    "        return init_temp\n",
    "    \n",
    "    k = no_of_steps\n",
    "    i = current_step\n",
    "    adj_temp = (init_temp / k) * (k - i)\n",
    "\n",
    "    return adj_temp"
   ]
  },
  {
   "cell_type": "code",
   "execution_count": 601,
   "metadata": {},
   "outputs": [],
   "source": [
    "def adjust_temp_stag_log(init_temp, no_of_steps, current_step, params = {'slope' : -1/5000, 'mid_adj' : 0}):\n",
    "    k = no_of_steps\n",
    "    i = current_step\n",
    "    C = 1/10000 # prevents float div by 0\n",
    "\n",
    "    beta = -params['slope'] * 4\n",
    "    alpha = -(((k/2) + params['mid_adj']) * beta)\n",
    "    s = alpha + beta * i\n",
    "\n",
    "    adj_temp = (1 / (1 + math.e**(-s))) * init_temp\n",
    "\n",
    "    return (init_temp - adj_temp) + C"
   ]
  },
  {
   "cell_type": "code",
   "execution_count": 595,
   "metadata": {},
   "outputs": [],
   "source": [
    "def compute_probability(energy_diff, temp):\n",
    "    return math.e ** (energy_diff / temp)"
   ]
  },
  {
   "cell_type": "code",
   "execution_count": 596,
   "metadata": {},
   "outputs": [],
   "source": [
    "def sim_anneal(TSP_problem, no_of_steps, init_temperature):\n",
    "\n",
    "    problem = TSP_problem\n",
    "    curr_E = 0 # objective function (energy) : manhattan distance\n",
    "    temp = init_temperature\n",
    "    accepted_tours = 0\n",
    "    tried_tours = 0\n",
    "    best_tour = []\n",
    "    best_E = 0\n",
    "\n",
    "    current = problem.generate_random_tour() # random start\n",
    "    curr_E = problem.evaluate_tour(current) \n",
    "\n",
    "    init_tour = current\n",
    "    init_E = curr_E\n",
    "    for s in range(no_of_steps):\n",
    "        candidate = problem.permute_tour(tour = current) # attach opposites\n",
    "        cand_E = problem.evaluate_tour(candidate)\n",
    "        tried_tours += 1 \n",
    "\n",
    "        d_E = cand_E - curr_E # energy difference; d_E < 0 indicates lower total man. dist.\n",
    "        if d_E < 0: # update best\n",
    "            accepted_tours += 1\n",
    "            current = candidate\n",
    "            curr_E = cand_E\n",
    "            best_tour = candidate\n",
    "            best_E = curr_E\n",
    "\n",
    "        else: # otherwise use prob \n",
    "            prob = compute_probability(-d_E, temp) # negate energy diff so p in [0,1]\n",
    "\n",
    "            if random.random() <= prob: # accept but don't update best... prob -> 0, progressively accept less\n",
    "                accepted_tours += 1\n",
    "                current = candidate\n",
    "                curr_E = cand_E\n",
    "\n",
    "        # update temp from steps\n",
    "        temp = adjust_temp_linear(init_temp = init_temperature, \n",
    "                           no_of_steps = no_of_steps + 1, \n",
    "                           current_step = s)\n",
    "\n",
    "    return {\n",
    "        'Initial Tour' : init_tour,\n",
    "        'Initial Distance' : init_E,\n",
    "        'Initial Temperature' : init_temperature,\n",
    "        'Tours Tried' : tried_tours,\n",
    "        'Tours Accepted' : accepted_tours,\n",
    "        'Best Tour' : best_tour,\n",
    "        'Best Distance' : best_E\n",
    "    }"
   ]
  },
  {
   "cell_type": "code",
   "execution_count": 610,
   "metadata": {},
   "outputs": [],
   "source": [
    "def sim_anneal_stag_log(TSP_problem, no_of_steps, init_temperature, temp_params = {\n",
    "                                                                                    'slope' : -1/20000,\n",
    "                                                                                    'mid_adj' : 0\n",
    "                                                                                }):\n",
    "\n",
    "    problem = TSP_problem\n",
    "    curr_E = 0 # objective function (energy) : manhattan distance\n",
    "    temp = init_temperature\n",
    "    accepted_tours = 0\n",
    "    tried_tours = 0\n",
    "    best_tour = []\n",
    "    best_E = 0\n",
    "\n",
    "    current = problem.generate_random_tour() # random start\n",
    "    curr_E = problem.evaluate_tour(current) \n",
    "\n",
    "    init_tour = current\n",
    "    init_E = curr_E\n",
    "    for s in range(no_of_steps):\n",
    "        candidate = problem.permute_tour(tour = current) # attach opposites\n",
    "        cand_E = problem.evaluate_tour(candidate)\n",
    "        tried_tours += 1 \n",
    "\n",
    "        d_E = cand_E - curr_E # energy difference; d_E < 0 indicates lower total man. dist.\n",
    "        if d_E < 0: # update best\n",
    "            accepted_tours += 1\n",
    "            current = candidate\n",
    "            curr_E = cand_E\n",
    "            best_tour = candidate\n",
    "            best_E = curr_E\n",
    "\n",
    "        else: # otherwise use prob \n",
    "            prob = compute_probability(-d_E, temp) # negate energy diff so p in [0,1]\n",
    "\n",
    "            if random.random() <= prob: # accept but don't update best... prob -> 0, progressively accept less\n",
    "                accepted_tours += 1\n",
    "                current = candidate\n",
    "                curr_E = cand_E\n",
    "\n",
    "        # update temp from steps\n",
    "        temp = adjust_temp_stag_log(\n",
    "                            init_temp = init_temperature, \n",
    "                            no_of_steps = no_of_steps + 1, \n",
    "                            current_step = s,\n",
    "                            params = temp_params\n",
    "                           )\n",
    "\n",
    "    return {\n",
    "        'Initial Tour' : init_tour,\n",
    "        'Initial Distance' : init_E,\n",
    "        'Initial Temperature' : init_temperature,\n",
    "        'Tours Tried' : tried_tours,\n",
    "        'Tours Accepted' : accepted_tours,\n",
    "        'Best Tour' : best_tour,\n",
    "        'Best Distance' : best_E\n",
    "    }"
   ]
  },
  {
   "cell_type": "code",
   "execution_count": 598,
   "metadata": {},
   "outputs": [
    {
     "name": "stdout",
     "output_type": "stream",
     "text": [
      "Initial Tour = [0, 40, 56, 8, 10, 35, 12, 29, 26, 30, 31, 47, 28, 37, 39, 19, 6, 13, 52, 57, 11, 33, 58, 3, 38, 27, 44, 16, 43, 34, 21, 51, 18, 54, 24, 14, 4, 41, 46, 5, 59, 1, 50, 42, 22, 9, 36, 15, 48, 32, 25, 49, 20, 2, 53, 45, 55, 7, 23, 17]\n",
      "Initial Distance = 301.4689300000001\n",
      "Initial Temperature = 100\n",
      "Tours Tried = 100000\n",
      "Tours Accepted = 92524\n",
      "Best Tour = [0, 16, 42, 30, 46, 9, 2, 52, 38, 26, 24, 12, 14, 37, 19, 22, 21, 35, 31, 49, 8, 10, 6, 58, 13, 51, 47, 28, 57, 11, 41, 55, 4, 20, 40, 59, 48, 54, 43, 44, 3, 29, 23, 56, 25, 18, 33, 32, 39, 45, 5, 53, 1, 27, 50, 34, 15, 7, 36, 17]\n",
      "Best Distance = 95.58391799999998\n"
     ]
    }
   ],
   "source": [
    "problem = TSP_Problem(Standard_Cities)\n",
    "s = sim_anneal(TSP_problem = problem, no_of_steps = 100000, init_temperature = 100)\n",
    "\n",
    "for k,v in s.items():\n",
    "    print(f\"{k} = {v}\")"
   ]
  },
  {
   "cell_type": "code",
   "execution_count": 611,
   "metadata": {},
   "outputs": [
    {
     "name": "stdout",
     "output_type": "stream",
     "text": [
      "Initial Tour = [0, 22, 35, 39, 37, 47, 3, 25, 40, 12, 6, 52, 8, 33, 31, 44, 9, 34, 59, 14, 41, 56, 7, 51, 17, 13, 55, 19, 23, 24, 42, 16, 49, 20, 10, 48, 28, 27, 32, 43, 5, 21, 2, 46, 18, 58, 1, 30, 29, 53, 45, 50, 54, 26, 11, 36, 38, 4, 15, 57]\n",
      "Initial Distance = 317.22830999999996\n",
      "Initial Temperature = 100\n",
      "Tours Tried = 100000\n",
      "Tours Accepted = 67105\n",
      "Best Tour = [0, 16, 30, 14, 46, 42, 24, 26, 38, 37, 12, 52, 21, 22, 19, 8, 49, 31, 13, 58, 6, 10, 35, 59, 55, 9, 2, 20, 4, 40, 48, 41, 54, 43, 44, 3, 36, 18, 33, 34, 15, 25, 56, 23, 28, 57, 11, 51, 47, 29, 7, 50, 1, 27, 17, 45, 39, 32, 5, 53]\n",
      "Best Distance = 66.87408599999999\n"
     ]
    }
   ],
   "source": [
    "problem = TSP_Problem(Standard_Cities)\n",
    "s = sim_anneal_stag_log(TSP_problem = problem, no_of_steps = 100000, init_temperature = 100)\n",
    "\n",
    "for k,v in s.items():\n",
    "    print(f\"{k} = {v}\")"
   ]
  },
  {
   "cell_type": "markdown",
   "metadata": {},
   "source": [
    "if $i \\geq \\frac{k}{2}$\n",
    "\n",
    "\\begin{align*}\n",
    "T_i &= \\frac{T_{init}}{k} * (k - (i - \\frac{k}{2})^2) \\\\\n",
    "\\end{align*}\n",
    "\n",
    "else:\n",
    "$$\n",
    "T_i = T_{init}\n",
    "$$"
   ]
  },
  {
   "cell_type": "markdown",
   "metadata": {},
   "source": [
    "# Part b."
   ]
  },
  {
   "cell_type": "code",
   "execution_count": 102,
   "metadata": {},
   "outputs": [
    {
     "name": "stdout",
     "output_type": "stream",
     "text": [
      "new best on run 0\n",
      "new best on run 1\n",
      "new best on run 5\n",
      "new best on run 31\n",
      "new best on run 33\n",
      "new best on run 36\n",
      "Initial Tour = [0, 2, 35, 28, 36, 59, 46, 44, 33, 8, 31, 23, 26, 5, 24, 30, 50, 27, 32, 42, 12, 1, 10, 47, 19, 18, 6, 55, 54, 51, 57, 39, 29, 52, 25, 20, 40, 3, 7, 48, 49, 34, 38, 45, 14, 21, 37, 56, 16, 41, 4, 22, 17, 58, 9, 43, 53, 13, 11, 15]\n",
      "Initial Distance = 313.539542\n",
      "Initial Temperature = 64\n",
      "Tours Tried = 1000\n",
      "Tours Accepted = 908\n",
      "Best Tour = [0, 29, 5, 30, 24, 12, 6, 25, 36, 18, 9, 2, 48, 17, 50, 15, 3, 58, 59, 14, 28, 43, 56, 23, 27, 7, 20, 46, 32, 16, 42, 38, 45, 53, 39, 35, 33, 55, 8, 37, 26, 52, 21, 40, 22, 10, 31, 19, 49, 57, 13, 54, 4, 34, 51, 41, 44, 47, 11, 1]\n",
      "Best Distance = 203.77241600000005\n"
     ]
    }
   ],
   "source": [
    "best = {'Best Distance' : 10000}\n",
    "\n",
    "for i in range(50):\n",
    "    s = sim_anneal(TSP_problem = problem, no_of_steps = 1000, init_temperature = 100 - i)\n",
    "    if s['Best Distance'] < best['Best Distance']:\n",
    "        print(f'new best on run {i}')\n",
    "        best = s\n",
    "\n",
    "for k,v in best.items():\n",
    "    print(f\"{k} = {v}\")"
   ]
  },
  {
   "cell_type": "code",
   "execution_count": 105,
   "metadata": {},
   "outputs": [
    {
     "name": "stdout",
     "output_type": "stream",
     "text": [
      "new best with steps = 1\n",
      "new best with steps = 5001\n",
      "new best with steps = 15001\n",
      "new best with steps = 20001\n",
      "new best with steps = 40001\n",
      "new best with steps = 60001\n",
      "new best with steps = 65001\n"
     ]
    },
    {
     "ename": "KeyboardInterrupt",
     "evalue": "",
     "output_type": "error",
     "traceback": [
      "\u001b[0;31m---------------------------------------------------------------------------\u001b[0m",
      "\u001b[0;31mKeyboardInterrupt\u001b[0m                         Traceback (most recent call last)",
      "\u001b[1;32m/home/kibit/pitt/CS2710/A3/scratch.ipynb Cell 15\u001b[0m line \u001b[0;36m4\n\u001b[1;32m      <a href='vscode-notebook-cell://wsl%2Bubuntu/home/kibit/pitt/CS2710/A3/scratch.ipynb#X31sdnNjb2RlLXJlbW90ZQ%3D%3D?line=0'>1</a>\u001b[0m best \u001b[39m=\u001b[39m {\u001b[39m'\u001b[39m\u001b[39mBest Distance\u001b[39m\u001b[39m'\u001b[39m : \u001b[39m10000\u001b[39m}\n\u001b[1;32m      <a href='vscode-notebook-cell://wsl%2Bubuntu/home/kibit/pitt/CS2710/A3/scratch.ipynb#X31sdnNjb2RlLXJlbW90ZQ%3D%3D?line=2'>3</a>\u001b[0m \u001b[39mfor\u001b[39;00m i \u001b[39min\u001b[39;00m \u001b[39mrange\u001b[39m(\u001b[39m1\u001b[39m,\u001b[39m500000\u001b[39m,\u001b[39m5000\u001b[39m):\n\u001b[0;32m----> <a href='vscode-notebook-cell://wsl%2Bubuntu/home/kibit/pitt/CS2710/A3/scratch.ipynb#X31sdnNjb2RlLXJlbW90ZQ%3D%3D?line=3'>4</a>\u001b[0m     s \u001b[39m=\u001b[39m sim_anneal(TSP_problem \u001b[39m=\u001b[39m problem, no_of_steps \u001b[39m=\u001b[39m i, init_temperature \u001b[39m=\u001b[39m \u001b[39m70\u001b[39m)\n\u001b[1;32m      <a href='vscode-notebook-cell://wsl%2Bubuntu/home/kibit/pitt/CS2710/A3/scratch.ipynb#X31sdnNjb2RlLXJlbW90ZQ%3D%3D?line=4'>5</a>\u001b[0m     \u001b[39mif\u001b[39;00m s[\u001b[39m'\u001b[39m\u001b[39mBest Distance\u001b[39m\u001b[39m'\u001b[39m] \u001b[39m<\u001b[39m best[\u001b[39m'\u001b[39m\u001b[39mBest Distance\u001b[39m\u001b[39m'\u001b[39m]:\n\u001b[1;32m      <a href='vscode-notebook-cell://wsl%2Bubuntu/home/kibit/pitt/CS2710/A3/scratch.ipynb#X31sdnNjb2RlLXJlbW90ZQ%3D%3D?line=5'>6</a>\u001b[0m         \u001b[39mprint\u001b[39m(\u001b[39mf\u001b[39m\u001b[39m'\u001b[39m\u001b[39mnew best with steps = \u001b[39m\u001b[39m{\u001b[39;00mi\u001b[39m}\u001b[39;00m\u001b[39m'\u001b[39m)\n",
      "\u001b[1;32m/home/kibit/pitt/CS2710/A3/scratch.ipynb Cell 15\u001b[0m line \u001b[0;36m1\n\u001b[1;32m     <a href='vscode-notebook-cell://wsl%2Bubuntu/home/kibit/pitt/CS2710/A3/scratch.ipynb#X31sdnNjb2RlLXJlbW90ZQ%3D%3D?line=15'>16</a>\u001b[0m \u001b[39mfor\u001b[39;00m s \u001b[39min\u001b[39;00m \u001b[39mrange\u001b[39m(no_of_steps):\n\u001b[1;32m     <a href='vscode-notebook-cell://wsl%2Bubuntu/home/kibit/pitt/CS2710/A3/scratch.ipynb#X31sdnNjb2RlLXJlbW90ZQ%3D%3D?line=16'>17</a>\u001b[0m     candidate \u001b[39m=\u001b[39m problem\u001b[39m.\u001b[39mpermute_tour(tour \u001b[39m=\u001b[39m current) \u001b[39m# attach opposites\u001b[39;00m\n\u001b[0;32m---> <a href='vscode-notebook-cell://wsl%2Bubuntu/home/kibit/pitt/CS2710/A3/scratch.ipynb#X31sdnNjb2RlLXJlbW90ZQ%3D%3D?line=17'>18</a>\u001b[0m     cand_E \u001b[39m=\u001b[39m problem\u001b[39m.\u001b[39mevaluate_tour(candidate)\n\u001b[1;32m     <a href='vscode-notebook-cell://wsl%2Bubuntu/home/kibit/pitt/CS2710/A3/scratch.ipynb#X31sdnNjb2RlLXJlbW90ZQ%3D%3D?line=18'>19</a>\u001b[0m     tried_tours \u001b[39m+\u001b[39m\u001b[39m=\u001b[39m \u001b[39m1\u001b[39m \n\u001b[1;32m     <a href='vscode-notebook-cell://wsl%2Bubuntu/home/kibit/pitt/CS2710/A3/scratch.ipynb#X31sdnNjb2RlLXJlbW90ZQ%3D%3D?line=20'>21</a>\u001b[0m     d_E \u001b[39m=\u001b[39m cand_E \u001b[39m-\u001b[39m curr_E \u001b[39m# energy difference; d_E < 0 indicates lower total man. dist.\u001b[39;00m\n",
      "\u001b[1;32m/home/kibit/pitt/CS2710/A3/scratch.ipynb Cell 15\u001b[0m line \u001b[0;36m6\n\u001b[1;32m     <a href='vscode-notebook-cell://wsl%2Bubuntu/home/kibit/pitt/CS2710/A3/scratch.ipynb#X31sdnNjb2RlLXJlbW90ZQ%3D%3D?line=60'>61</a>\u001b[0m     \u001b[39mreturn\u001b[39;00m [child1,child2]\n\u001b[1;32m     <a href='vscode-notebook-cell://wsl%2Bubuntu/home/kibit/pitt/CS2710/A3/scratch.ipynb#X31sdnNjb2RlLXJlbW90ZQ%3D%3D?line=61'>62</a>\u001b[0m \u001b[39m# evaluates the quality of a tour\u001b[39;00m\n\u001b[0;32m---> <a href='vscode-notebook-cell://wsl%2Bubuntu/home/kibit/pitt/CS2710/A3/scratch.ipynb#X31sdnNjb2RlLXJlbW90ZQ%3D%3D?line=62'>63</a>\u001b[0m \u001b[39mdef\u001b[39;00m \u001b[39mevaluate_tour\u001b[39m(\u001b[39mself\u001b[39m,tour):\n\u001b[1;32m     <a href='vscode-notebook-cell://wsl%2Bubuntu/home/kibit/pitt/CS2710/A3/scratch.ipynb#X31sdnNjb2RlLXJlbW90ZQ%3D%3D?line=63'>64</a>\u001b[0m     res\u001b[39m=\u001b[39m\u001b[39m0\u001b[39m\n\u001b[1;32m     <a href='vscode-notebook-cell://wsl%2Bubuntu/home/kibit/pitt/CS2710/A3/scratch.ipynb#X31sdnNjb2RlLXJlbW90ZQ%3D%3D?line=64'>65</a>\u001b[0m     \u001b[39mfor\u001b[39;00m i \u001b[39min\u001b[39;00m \u001b[39mrange\u001b[39m(\u001b[39mself\u001b[39m\u001b[39m.\u001b[39mNumCities\u001b[39m-\u001b[39m\u001b[39m1\u001b[39m):\n",
      "\u001b[0;31mKeyboardInterrupt\u001b[0m: "
     ]
    }
   ],
   "source": [
    "best = {'Best Distance' : 10000}\n",
    "\n",
    "for i in range(1,500000,5000):\n",
    "    s = sim_anneal(TSP_problem = problem, no_of_steps = i, init_temperature = 70)\n",
    "    if s['Best Distance'] < best['Best Distance']:\n",
    "        print(f'new best with steps = {i}')\n",
    "        best = s\n",
    "\n",
    "for k,v in best.items():\n",
    "    print(f\"{k} = {v}\")"
   ]
  },
  {
   "cell_type": "markdown",
   "metadata": {},
   "source": [
    "# Part c."
   ]
  },
  {
   "cell_type": "code",
   "execution_count": 348,
   "metadata": {},
   "outputs": [],
   "source": [
    "import seaborn as sns\n",
    "from matplotlib import pyplot as plt"
   ]
  },
  {
   "cell_type": "code",
   "execution_count": 532,
   "metadata": {},
   "outputs": [
    {
     "data": {
      "text/plain": [
       "100.0"
      ]
     },
     "execution_count": 532,
     "metadata": {},
     "output_type": "execute_result"
    }
   ],
   "source": [
    "4/1000 * 25000"
   ]
  },
  {
   "cell_type": "code",
   "execution_count": 605,
   "metadata": {},
   "outputs": [
    {
     "data": {
      "text/plain": [
       "(0.0, 110.0)"
      ]
     },
     "execution_count": 605,
     "metadata": {},
     "output_type": "execute_result"
    },
    {
     "data": {
      "image/png": "[encoded data removed]",
      "text/plain": [
       "<Figure size 640x480 with 1 Axes>"
      ]
     },
     "metadata": {},
     "output_type": "display_data"
    }
   ],
   "source": [
    "lst = []\n",
    "slope = -1/20000 # how steep the slope is\n",
    "mid = -2000 # do you want to make less or more random choices\n",
    "\n",
    "\n",
    "for i in [x for x in range(100000)]:\n",
    "    lst.append(adjust_temp_stag_log(\n",
    "        init_temp = 100,\n",
    "        no_of_steps = 100000,\n",
    "        current_step = i,\n",
    "        params = {\n",
    "            'slope' : slope,\n",
    "            'mid_adj' : mid\n",
    "        }\n",
    "    ))\n",
    "\n",
    "ax = sns.lineplot(x = [x for x in range(100000)], y = lst)\n",
    "ax.set_ylim(0,110)"
   ]
  },
  {
   "cell_type": "code",
   "execution_count": 630,
   "metadata": {},
   "outputs": [],
   "source": [
    "import itertools as it"
   ]
  },
  {
   "cell_type": "code",
   "execution_count": 669,
   "metadata": {},
   "outputs": [
    {
     "name": "stdout",
     "output_type": "stream",
     "text": [
      "[69.86, 70.03, 70.41, 69.88, 67.11, 68.15, 71.13, 66.07, 69.18, 70.13]\n",
      "tours mean dist.  = 69.19548259999999\n"
     ]
    }
   ],
   "source": [
    "tours = []\n",
    "problem = TSP_Problem(Standard_Cities)\n",
    "\n",
    "for t in range(10):\n",
    "    tour = sim_anneal_stag_log(TSP_problem = problem, no_of_steps = 20000, init_temperature = 70,\n",
    "                               temp_params={'slope' : -1/5000, 'mid_adj' : -8000})  # max(slope) = slope\n",
    "                                                                                    # d2/dx(slope) = 0 @ x = (no_of_steps / 2) + mid_adj\n",
    "    tours.append(tour['Best Distance'])\n",
    "\n",
    "print([round(n,2) for n in tours])\n",
    "print(f\"tours mean dist.  = {sum(tours)/len(tours)}\")"
   ]
  }
 ],
 "metadata": {
  "kernelspec": {
   "display_name": "base",
   "language": "python",
   "name": "python3"
  },
  "language_info": {
   "codemirror_mode": {
    "name": "ipython",
    "version": 3
   },
   "file_extension": ".py",
   "mimetype": "text/x-python",
   "name": "python",
   "nbconvert_exporter": "python",
   "pygments_lexer": "ipython3",
   "version": "3.11.4"
  },
  "orig_nbformat": 4
 },
 "nbformat": 4,
 "nbformat_minor": 2
}
