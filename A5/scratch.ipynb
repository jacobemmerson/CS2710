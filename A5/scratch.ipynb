{
 "cells": [
  {
   "cell_type": "markdown",
   "metadata": {},
   "source": [
    "# CS2710 Assignment 5 Scratchwork\n",
    "### Jacob Emmerson "
   ]
  },
  {
   "cell_type": "code",
   "execution_count": 346,
   "metadata": {},
   "outputs": [],
   "source": [
    "# Knowledge base (KB) definition\n",
    "# It consists of: (1) a rule base (or RB) and (2) a facts base (or FB)\n",
    "# A rule base consists of a list of rules\n",
    "# A fact base consists of a list of facts/propositions known to be true\n",
    "\n",
    "class KB:\n",
    "    RB=[] # rules\n",
    "    FB=[] # facts\n",
    "    \n",
    "    # initializes the KB with a list of rules and a list of facts (if given)\n",
    "    def __init__(self,init_RB=[],init_FB=[]):\n",
    "        self.RB=init_RB\n",
    "        self.FB=init_FB.copy()\n",
    "        \n",
    "    # clears the FB and initializes it with init_FB\n",
    "    def reset_FB(self,init_FB=[]):\n",
    "        self.FB=init_FB.copy()\n",
    "        \n",
    "    # adds a rule to RB    \n",
    "    def add_rule(self, rule):\n",
    "        self.RB.append(rule)\n",
    " \n",
    "    # adds a fact to FB   \n",
    "    def add_fact(self,fact):\n",
    "        self.FB.append(fact)\n",
    "   \n",
    "    # checks if a fact is in FB\n",
    "    def is_in_FB(self,fact):\n",
    "        if fact in self.FB:\n",
    "            return True\n",
    "        else:\n",
    "            return False\n",
    "    \n",
    "    # prints rule base    \n",
    "    def print_RB(self):\n",
    "        for rule in self.RB:\n",
    "            print(rule.name)\n",
    "            print('If:', rule.cond_part)\n",
    "            print('Then:', rule.then_part)\n",
    "            print(' ')\n",
    "    \n",
    "    #prints fact base       \n",
    "    def print_FB(self):\n",
    "        for fact in self.FB:\n",
    "            print(fact)\n",
    "        \n",
    "                \n",
    "# a rule has a name and is defined by its condition and then parts\n",
    "class Rule:\n",
    "    name=''\n",
    "    cond_part=[]\n",
    "    then_part=''\n",
    "    def __init__(self,rname,condpart,thenpart):\n",
    "       self.name=rname\n",
    "       self.cond_part=condpart\n",
    "       self.then_part=thenpart"
   ]
  },
  {
   "cell_type": "code",
   "execution_count": 347,
   "metadata": {},
   "outputs": [],
   "source": [
    "# *******************************************************************\n",
    "# now we define the animal identification problem to experiment with\n",
    "# *******************************************************************       \n",
    "\n",
    "# rules for the animal identification problem        \n",
    "init_RB=[]\n",
    "init_RB.append(Rule('R1',['has_hair'],'is_a_mammal'))\n",
    "init_RB.append(Rule('R2',['gives_milk'],'is_a_mammal'))\n",
    "init_RB.append(Rule('R3',['has_feathers'],'is_a_bird')) \n",
    "init_RB.append(Rule('R4',['flies','lays_eggs'],'is_a_bird')) \n",
    "init_RB.append(Rule('R5',['is_a_mammal','eats_meat'],'is_a_carnivore')) \n",
    "init_RB.append(Rule('R6',['is_a_mammal','has_pointed_teeth','has_claws','the_animals_eyes_point_forward'],'is_a_carnivore'))\n",
    "init_RB.append(Rule('R7',['is_a_mammal','has_hoofs'],'is_an_ungulate'))\n",
    "init_RB.append(Rule('R8',['is_a_mammal','chews_cud'],'is_an_ungulate'))\n",
    "init_RB.append(Rule('R9',['is_a_mammal','chews_cud'],'is_even-toed'))\n",
    "init_RB.append(Rule('R10',['is_a_carnivore','has_a_tawny_color','has_dark_spots'],'is_a_cheetah'))\n",
    "init_RB.append(Rule('R11',['is_a_carnivore', 'has_a_tawny_color', 'has_black_stripes'],'is_a_tiger'))\n",
    "init_RB.append(Rule('R12',['is_an_ungulate','has_long_legs','has_a_long_neck','has_a_tawny_color','has_dark_spots'],'is_a_giraffe'))\n",
    "init_RB.append(Rule('R13',['is_an_ungulate', 'has_a_white_color','has_black_stripes'],'is_a_zebra'))\n",
    "init_RB.append(Rule('R14',['is_a_bird','does_not_fly','has_long_legs','has_a_long_neck','is_black_and_white'],'is_an_ostrich'))\n",
    "init_RB.append(Rule('R15',['is_a_bird','does_not_fly','swims','is_black_and_white'],'is_a_penguin'))\n",
    "init_RB.append(Rule('R16',['is_a_bird','is_a_good_flyer'],'is_an_albatross'))\n",
    "\n",
    "# facts/propositions known to be true for the animal we want to identify\n",
    "init_FB=['gives_milk','chews_cud','has_long_legs','has_a_long_neck','has_a_tawny_color','has_dark_spots']\n",
    "\n",
    "KBase=KB(init_RB,init_FB)\n",
    "\n",
    "# here are theorems to prove\n",
    "theorem1='is_a_giraffe'\n",
    "theorem2='is_a_penguin'\n",
    "theorem3='is_a_mammal'\n",
    "theorem4='has_a_tawny_color'\n",
    "theorem5='is_a_bird'"
   ]
  },
  {
   "cell_type": "markdown",
   "metadata": {},
   "source": [
    "---"
   ]
  },
  {
   "cell_type": "markdown",
   "metadata": {},
   "source": [
    "## Forward Chaining"
   ]
  },
  {
   "cell_type": "markdown",
   "metadata": {},
   "source": [
    "Forwadchaining:\n",
    "\n",
    "- Repeatedly scan rules with consequents that are not in the fact base\n",
    "- Check whether the antecedent of a rule is satisfied:\n",
    "    - If yes, add fact to fact base and print rule and new fact added\n",
    "- Report success if theorem is valid\n",
    "    - Else report failiure if no new fact was added during last scan\n",
    "- print facts after it stops"
   ]
  },
  {
   "cell_type": "code",
   "execution_count": 348,
   "metadata": {},
   "outputs": [
    {
     "name": "stdout",
     "output_type": "stream",
     "text": [
      "If: ['has_hair'] then: is_a_mammal\n"
     ]
    }
   ],
   "source": [
    "print(f\"If: {KBase.RB[0].cond_part} then: {KBase.RB[0].then_part}\")"
   ]
  },
  {
   "cell_type": "code",
   "execution_count": 349,
   "metadata": {},
   "outputs": [],
   "source": [
    "def check_all_conditions(rule, facts):\n",
    "    for c in rule.cond_part:\n",
    "        if c not in facts:\n",
    "            return False\n",
    "    return True"
   ]
  },
  {
   "cell_type": "code",
   "execution_count": 358,
   "metadata": {},
   "outputs": [],
   "source": [
    "def forwardchain(KB, theorem):\n",
    "    base = KB\n",
    "    to_prove = theorem\n",
    "    rules = base.RB\n",
    "\n",
    "    if to_prove in base.FB:\n",
    "        print(\"Theorem already Known\\n\")\n",
    "        print(f\"Facts (n = {len(base.FB)}):\")\n",
    "        base.print_FB()\n",
    "        return True\n",
    "\n",
    "    fact_added = 1\n",
    "    while fact_added:\n",
    "        fact_added = 0 # reset\n",
    "        facts = base.FB # in case facts are updated\n",
    "        for rule in rules:\n",
    "            if base.is_in_FB(rule.then_part): # skip checking for facts we already know\n",
    "                continue\n",
    "\n",
    "            if check_all_conditions(rule, facts): # new fact if all conditions satisfied\n",
    "                base.add_fact(rule.then_part)\n",
    "                fact_added = 1\n",
    "                print(f\"Satisfied {rule.name}: {rule.cond_part}\")\n",
    "                print(f\"Added: {rule.then_part}\\n\")\n",
    "                if rule.then_part == to_prove:\n",
    "                    print(f\"Facts (n = {len(base.FB)}):\")\n",
    "                    base.print_FB()\n",
    "                    base.reset_FB(init_FB)\n",
    "                    return True\n",
    "    print(f\"Facts (n = {len(base.FB)}):\")\n",
    "    base.print_FB()\n",
    "    base.reset_FB(init_FB)\n",
    "    return False"
   ]
  },
  {
   "cell_type": "code",
   "execution_count": 359,
   "metadata": {},
   "outputs": [
    {
     "name": "stdout",
     "output_type": "stream",
     "text": [
      "Satisfied R2: ['gives_milk']\n",
      "Added: is_a_mammal\n",
      "\n",
      "Satisfied R8: ['is_a_mammal', 'chews_cud']\n",
      "Added: is_an_ungulate\n",
      "\n",
      "Satisfied R9: ['is_a_mammal', 'chews_cud']\n",
      "Added: is_even-toed\n",
      "\n",
      "Satisfied R12: ['is_an_ungulate', 'has_long_legs', 'has_a_long_neck', 'has_a_tawny_color', 'has_dark_spots']\n",
      "Added: is_a_giraffe\n",
      "\n",
      "Facts (n = 10):\n",
      "gives_milk\n",
      "chews_cud\n",
      "has_long_legs\n",
      "has_a_long_neck\n",
      "has_a_tawny_color\n",
      "has_dark_spots\n",
      "is_a_mammal\n",
      "is_an_ungulate\n",
      "is_even-toed\n",
      "is_a_giraffe\n"
     ]
    },
    {
     "data": {
      "text/plain": [
       "True"
      ]
     },
     "execution_count": 359,
     "metadata": {},
     "output_type": "execute_result"
    }
   ],
   "source": [
    "forwardchain(KBase, theorem1)"
   ]
  },
  {
   "cell_type": "code",
   "execution_count": 360,
   "metadata": {},
   "outputs": [
    {
     "name": "stdout",
     "output_type": "stream",
     "text": [
      "Satisfied R2: ['gives_milk']\n",
      "Added: is_a_mammal\n",
      "\n",
      "Satisfied R8: ['is_a_mammal', 'chews_cud']\n",
      "Added: is_an_ungulate\n",
      "\n",
      "Satisfied R9: ['is_a_mammal', 'chews_cud']\n",
      "Added: is_even-toed\n",
      "\n",
      "Satisfied R12: ['is_an_ungulate', 'has_long_legs', 'has_a_long_neck', 'has_a_tawny_color', 'has_dark_spots']\n",
      "Added: is_a_giraffe\n",
      "\n",
      "Facts (n = 10):\n",
      "gives_milk\n",
      "chews_cud\n",
      "has_long_legs\n",
      "has_a_long_neck\n",
      "has_a_tawny_color\n",
      "has_dark_spots\n",
      "is_a_mammal\n",
      "is_an_ungulate\n",
      "is_even-toed\n",
      "is_a_giraffe\n"
     ]
    },
    {
     "data": {
      "text/plain": [
       "False"
      ]
     },
     "execution_count": 360,
     "metadata": {},
     "output_type": "execute_result"
    }
   ],
   "source": [
    "forwardchain(KBase, theorem2)"
   ]
  },
  {
   "cell_type": "code",
   "execution_count": 361,
   "metadata": {},
   "outputs": [
    {
     "name": "stdout",
     "output_type": "stream",
     "text": [
      "Satisfied R2: ['gives_milk']\n",
      "Added: is_a_mammal\n",
      "\n",
      "Facts (n = 7):\n",
      "gives_milk\n",
      "chews_cud\n",
      "has_long_legs\n",
      "has_a_long_neck\n",
      "has_a_tawny_color\n",
      "has_dark_spots\n",
      "is_a_mammal\n"
     ]
    },
    {
     "data": {
      "text/plain": [
       "True"
      ]
     },
     "execution_count": 361,
     "metadata": {},
     "output_type": "execute_result"
    }
   ],
   "source": [
    "forwardchain(KBase, theorem3)"
   ]
  },
  {
   "cell_type": "code",
   "execution_count": 362,
   "metadata": {},
   "outputs": [
    {
     "name": "stdout",
     "output_type": "stream",
     "text": [
      "Theorem already Known\n",
      "\n",
      "Facts (n = 6):\n",
      "gives_milk\n",
      "chews_cud\n",
      "has_long_legs\n",
      "has_a_long_neck\n",
      "has_a_tawny_color\n",
      "has_dark_spots\n"
     ]
    },
    {
     "data": {
      "text/plain": [
       "True"
      ]
     },
     "execution_count": 362,
     "metadata": {},
     "output_type": "execute_result"
    }
   ],
   "source": [
    "forwardchain(KBase, theorem4)"
   ]
  },
  {
   "cell_type": "code",
   "execution_count": 363,
   "metadata": {},
   "outputs": [
    {
     "name": "stdout",
     "output_type": "stream",
     "text": [
      "Satisfied R2: ['gives_milk']\n",
      "Added: is_a_mammal\n",
      "\n",
      "Satisfied R8: ['is_a_mammal', 'chews_cud']\n",
      "Added: is_an_ungulate\n",
      "\n",
      "Satisfied R9: ['is_a_mammal', 'chews_cud']\n",
      "Added: is_even-toed\n",
      "\n",
      "Satisfied R12: ['is_an_ungulate', 'has_long_legs', 'has_a_long_neck', 'has_a_tawny_color', 'has_dark_spots']\n",
      "Added: is_a_giraffe\n",
      "\n",
      "Facts (n = 10):\n",
      "gives_milk\n",
      "chews_cud\n",
      "has_long_legs\n",
      "has_a_long_neck\n",
      "has_a_tawny_color\n",
      "has_dark_spots\n",
      "is_a_mammal\n",
      "is_an_ungulate\n",
      "is_even-toed\n",
      "is_a_giraffe\n"
     ]
    },
    {
     "data": {
      "text/plain": [
       "False"
      ]
     },
     "execution_count": 363,
     "metadata": {},
     "output_type": "execute_result"
    }
   ],
   "source": [
    "forwardchain(KBase, theorem5)"
   ]
  },
  {
   "cell_type": "markdown",
   "metadata": {},
   "source": [
    "---"
   ]
  },
  {
   "cell_type": "markdown",
   "metadata": {},
   "source": [
    "## Backward Chaining"
   ]
  },
  {
   "cell_type": "markdown",
   "metadata": {},
   "source": [
    "Recursion?"
   ]
  },
  {
   "cell_type": "code",
   "execution_count": 364,
   "metadata": {},
   "outputs": [],
   "source": [
    "def check_rules(KB, check, k): # k is for error checking\n",
    "    for rule in KB.RB: # look for a rule where the conc. == check (when k = 0, theorem)\n",
    "        all_conds_good = 1\n",
    "        if check == rule.then_part: # found \n",
    "            print(f\"Checking [{check}] with {rule.name}: {rule.cond_part} (level = {k})\")\n",
    "            for c in rule.cond_part: # check the conditions\n",
    "                if c not in KB.FB: # if condition is not known, check for the condition in rules\n",
    "                    if check_rules(KB, c, k + 1): #if eventually satisfied, return True\n",
    "                        if rule.cond_part[-1] == c: # is this the last condition\n",
    "                            print(f\"Satsified {rule.name}: {rule.cond_part}\\nAdding: {rule.then_part}\\n\")\n",
    "                            KB.add_fact(rule.then_part)\n",
    "                            return True\n",
    "\n",
    "                        else:\n",
    "                            continue\n",
    "                    # if condition is not satisfied, check another rule\n",
    "                    all_conds_good = 0\n",
    "                    print(f\"Failed to Satisfy {rule.name}: {rule.cond_part}\\n\")\n",
    "                    break\n",
    "\n",
    "            if all_conds_good == 1:\n",
    "                print(f\"Satsified {rule.name}: {rule.cond_part}\\nAdding: {rule.then_part}\\n\")\n",
    "                KB.add_fact(rule.then_part)\n",
    "                return True\n",
    "\n",
    "    # return false if no rule found \n",
    "    return False"
   ]
  },
  {
   "cell_type": "code",
   "execution_count": 365,
   "metadata": {},
   "outputs": [],
   "source": [
    "def backwardchain(KB, theorem):\n",
    "    base = KB\n",
    "    base.reset_FB(init_FB)\n",
    "    to_prove = theorem\n",
    "\n",
    "    if to_prove in base.FB:\n",
    "        print(\"Theorem already Known\\n\")\n",
    "        print(\"Facts:\")\n",
    "        base.print_FB()\n",
    "        return True\n",
    "\n",
    "    t = check_rules(base, to_prove, k = 0)\n",
    "\n",
    "    print(f\"\\n\\nFacts (n = {len(base.FB)}):\")\n",
    "    base.print_FB()\n",
    "    return t"
   ]
  },
  {
   "cell_type": "code",
   "execution_count": 366,
   "metadata": {},
   "outputs": [
    {
     "name": "stdout",
     "output_type": "stream",
     "text": [
      "Checking [is_a_giraffe] with R12: ['is_an_ungulate', 'has_long_legs', 'has_a_long_neck', 'has_a_tawny_color', 'has_dark_spots'] (level = 0)\n",
      "Checking [is_an_ungulate] with R7: ['is_a_mammal', 'has_hoofs'] (level = 1)\n",
      "Checking [is_a_mammal] with R1: ['has_hair'] (level = 2)\n",
      "Failed to Satisfy R1: ['has_hair']\n",
      "\n",
      "Checking [is_a_mammal] with R2: ['gives_milk'] (level = 2)\n",
      "Satsified R2: ['gives_milk']\n",
      "Adding: is_a_mammal\n",
      "\n",
      "Failed to Satisfy R7: ['is_a_mammal', 'has_hoofs']\n",
      "\n",
      "Checking [is_an_ungulate] with R8: ['is_a_mammal', 'chews_cud'] (level = 1)\n",
      "Satsified R8: ['is_a_mammal', 'chews_cud']\n",
      "Adding: is_an_ungulate\n",
      "\n",
      "Satsified R12: ['is_an_ungulate', 'has_long_legs', 'has_a_long_neck', 'has_a_tawny_color', 'has_dark_spots']\n",
      "Adding: is_a_giraffe\n",
      "\n",
      "\n",
      "\n",
      "Facts (n = 9):\n",
      "gives_milk\n",
      "chews_cud\n",
      "has_long_legs\n",
      "has_a_long_neck\n",
      "has_a_tawny_color\n",
      "has_dark_spots\n",
      "is_a_mammal\n",
      "is_an_ungulate\n",
      "is_a_giraffe\n"
     ]
    },
    {
     "data": {
      "text/plain": [
       "True"
      ]
     },
     "execution_count": 366,
     "metadata": {},
     "output_type": "execute_result"
    }
   ],
   "source": [
    "KBase.reset_FB(init_FB)\n",
    "\n",
    "backwardchain(KBase, theorem1)"
   ]
  },
  {
   "cell_type": "code",
   "execution_count": 367,
   "metadata": {},
   "outputs": [
    {
     "name": "stdout",
     "output_type": "stream",
     "text": [
      "Checking [is_a_penguin] with R15: ['is_a_bird', 'does_not_fly', 'swims', 'is_black_and_white'] (level = 0)\n",
      "Checking [is_a_bird] with R3: ['has_feathers'] (level = 1)\n",
      "Failed to Satisfy R3: ['has_feathers']\n",
      "\n",
      "Checking [is_a_bird] with R4: ['flies', 'lays_eggs'] (level = 1)\n",
      "Failed to Satisfy R4: ['flies', 'lays_eggs']\n",
      "\n",
      "Failed to Satisfy R15: ['is_a_bird', 'does_not_fly', 'swims', 'is_black_and_white']\n",
      "\n",
      "\n",
      "\n",
      "Facts (n = 6):\n",
      "gives_milk\n",
      "chews_cud\n",
      "has_long_legs\n",
      "has_a_long_neck\n",
      "has_a_tawny_color\n",
      "has_dark_spots\n"
     ]
    },
    {
     "data": {
      "text/plain": [
       "False"
      ]
     },
     "execution_count": 367,
     "metadata": {},
     "output_type": "execute_result"
    }
   ],
   "source": [
    "backwardchain(KBase, theorem2)"
   ]
  },
  {
   "cell_type": "code",
   "execution_count": 368,
   "metadata": {},
   "outputs": [
    {
     "name": "stdout",
     "output_type": "stream",
     "text": [
      "Checking [is_a_mammal] with R1: ['has_hair'] (level = 0)\n",
      "Failed to Satisfy R1: ['has_hair']\n",
      "\n",
      "Checking [is_a_mammal] with R2: ['gives_milk'] (level = 0)\n",
      "Satsified R2: ['gives_milk']\n",
      "Adding: is_a_mammal\n",
      "\n",
      "\n",
      "\n",
      "Facts (n = 7):\n",
      "gives_milk\n",
      "chews_cud\n",
      "has_long_legs\n",
      "has_a_long_neck\n",
      "has_a_tawny_color\n",
      "has_dark_spots\n",
      "is_a_mammal\n"
     ]
    },
    {
     "data": {
      "text/plain": [
       "True"
      ]
     },
     "execution_count": 368,
     "metadata": {},
     "output_type": "execute_result"
    }
   ],
   "source": [
    "backwardchain(KBase, theorem3)"
   ]
  },
  {
   "cell_type": "code",
   "execution_count": 369,
   "metadata": {},
   "outputs": [
    {
     "name": "stdout",
     "output_type": "stream",
     "text": [
      "Theorem already Known\n",
      "\n",
      "Facts:\n",
      "gives_milk\n",
      "chews_cud\n",
      "has_long_legs\n",
      "has_a_long_neck\n",
      "has_a_tawny_color\n",
      "has_dark_spots\n"
     ]
    },
    {
     "data": {
      "text/plain": [
       "True"
      ]
     },
     "execution_count": 369,
     "metadata": {},
     "output_type": "execute_result"
    }
   ],
   "source": [
    "backwardchain(KBase, theorem4)"
   ]
  },
  {
   "cell_type": "code",
   "execution_count": 370,
   "metadata": {},
   "outputs": [
    {
     "name": "stdout",
     "output_type": "stream",
     "text": [
      "Checking [is_a_bird] with R3: ['has_feathers'] (level = 0)\n",
      "Failed to Satisfy R3: ['has_feathers']\n",
      "\n",
      "Checking [is_a_bird] with R4: ['flies', 'lays_eggs'] (level = 0)\n",
      "Failed to Satisfy R4: ['flies', 'lays_eggs']\n",
      "\n",
      "\n",
      "\n",
      "Facts (n = 6):\n",
      "gives_milk\n",
      "chews_cud\n",
      "has_long_legs\n",
      "has_a_long_neck\n",
      "has_a_tawny_color\n",
      "has_dark_spots\n"
     ]
    },
    {
     "data": {
      "text/plain": [
       "False"
      ]
     },
     "execution_count": 370,
     "metadata": {},
     "output_type": "execute_result"
    }
   ],
   "source": [
    "backwardchain(KBase, theorem5)"
   ]
  }
 ],
 "metadata": {
  "kernelspec": {
   "display_name": "base",
   "language": "python",
   "name": "python3"
  },
  "language_info": {
   "codemirror_mode": {
    "name": "ipython",
    "version": 3
   },
   "file_extension": ".py",
   "mimetype": "text/x-python",
   "name": "python",
   "nbconvert_exporter": "python",
   "pygments_lexer": "ipython3",
   "version": "3.11.4"
  }
 },
 "nbformat": 4,
 "nbformat_minor": 2
}
